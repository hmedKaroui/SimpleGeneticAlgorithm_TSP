{
 "cells": [
  {
   "cell_type": "markdown",
   "metadata": {},
   "source": [
    "# Chromosome\n",
    "- The chromosome is a list of genes\n",
    "- The gene is a couple of X an Y\n",
    "- The Fitness represent the distance ==> SQRT(  (X2 - X1)²   +   (Y2 - Y1)²  )"
   ]
  },
  {
   "cell_type": "code",
   "execution_count": null,
   "metadata": {},
   "outputs": [],
   "source": [
    "def fitness(individual):\n",
    "    dis = 0\n",
    "    for i in range(0, len(individual)):\n",
    "        if i == len(individual) - 1:\n",
    "            a = abs(individual[i][0] - individual[0][0])\n",
    "            b = abs(individual[i][1] - individual[0][1])\n",
    "        else:\n",
    "            a = abs(individual[i][0] - individual[i + 1][0])\n",
    "            b = abs(individual[i][1] - individual[i + 1][1])\n",
    "        c = a**2 + b**2\n",
    "        dis += math.sqrt(c)\n",
    "    return dis"
   ]
  },
  {
   "cell_type": "markdown",
   "metadata": {},
   "source": [
    "# Crossover and Mutation\n"
   ]
  },
  {
   "cell_type": "code",
   "execution_count": null,
   "metadata": {},
   "outputs": [],
   "source": [
    "def crossover(parent_1, parent_2):\n",
    "    crossover_index = random.randrange(1, len(parent_1))\n",
    "    child_1a = parent_1[:crossover_index]\n",
    "    child_1b = [i for i in parent_2 if i not in child_1a]\n",
    "    child_1 = child_1a + child_1b\n",
    "\n",
    "    child_2a = parent_2[crossover_index:]\n",
    "    child_2b = [i for i in parent_1 if i not in child_2a]\n",
    "    child_2 = child_2a + child_2b\n",
    "\n",
    "    return child_1, child_2 \n",
    "\n",
    "def mutate(individual):\n",
    "    mutate_index1 = random.randrange(len(individual))\n",
    "    mutate_index2 = random.randrange(len(individual))\n",
    "    individual[mutate_index1] = individual[mutate_index2]\n",
    "    individual[mutate_index2] = individual[mutate_index1]"
   ]
  }
 ],
 "metadata": {
  "language_info": {
   "name": "python"
  },
  "orig_nbformat": 4
 },
 "nbformat": 4,
 "nbformat_minor": 2
}
